{
  "nbformat": 4,
  "nbformat_minor": 0,
  "metadata": {
    "colab": {
      "provenance": []
    },
    "kernelspec": {
      "name": "python3",
      "display_name": "Python 3"
    },
    "language_info": {
      "name": "python"
    }
  },
  "cells": [
    {
      "cell_type": "code",
      "execution_count": 1,
      "metadata": {
        "id": "NkZyQT8pbHnQ"
      },
      "outputs": [],
      "source": [
        "import pandas as pd"
      ]
    },
    {
      "cell_type": "code",
      "source": [
        "df_sess = pd.read_csv('/content/drive/MyDrive/data_files/ga_sessions.csv')\n",
        "df_hits = pd.read_csv('/content/drive/MyDrive/data_files/ga_hits.csv')"
      ],
      "metadata": {
        "colab": {
          "base_uri": "https://localhost:8080/"
        },
        "id": "5lj7wO54bUuo",
        "outputId": "038c57a0-3783-47f6-f57e-b95b51853ebf"
      },
      "execution_count": 2,
      "outputs": [
        {
          "output_type": "stream",
          "name": "stderr",
          "text": [
            "<ipython-input-2-f522833d0c83>:1: DtypeWarning: Columns (1) have mixed types. Specify dtype option on import or set low_memory=False.\n",
            "  df_sess = pd.read_csv('/content/drive/MyDrive/data_files/ga_sessions.csv')\n"
          ]
        }
      ]
    },
    {
      "cell_type": "code",
      "source": [
        "df_sess.shape, df_hits.shape"
      ],
      "metadata": {
        "id": "ScEXRzHTbcCa",
        "colab": {
          "base_uri": "https://localhost:8080/"
        },
        "outputId": "3227b864-702d-4ca4-d659-82cb53c07e1d"
      },
      "execution_count": 3,
      "outputs": [
        {
          "output_type": "execute_result",
          "data": {
            "text/plain": [
              "((1860042, 18), (15726470, 11))"
            ]
          },
          "metadata": {},
          "execution_count": 3
        }
      ]
    },
    {
      "cell_type": "markdown",
      "source": [
        "## Обрабатываем дубликаты"
      ],
      "metadata": {
        "id": "E9rA2HQic_ci"
      }
    },
    {
      "cell_type": "code",
      "source": [
        "sum(df_sess.duplicated())"
      ],
      "metadata": {
        "colab": {
          "base_uri": "https://localhost:8080/"
        },
        "id": "3vxswqOegcE1",
        "outputId": "b703ef85-743f-4be2-cbb4-8af2e14d4baa"
      },
      "execution_count": 4,
      "outputs": [
        {
          "output_type": "execute_result",
          "data": {
            "text/plain": [
              "0"
            ]
          },
          "metadata": {},
          "execution_count": 4
        }
      ]
    },
    {
      "cell_type": "code",
      "source": [
        "sum(df_hits.duplicated())"
      ],
      "metadata": {
        "colab": {
          "base_uri": "https://localhost:8080/"
        },
        "id": "QQK0unkkgjbU",
        "outputId": "ad2c18e1-165b-4344-d1b9-de70cb46385e"
      },
      "execution_count": 5,
      "outputs": [
        {
          "output_type": "execute_result",
          "data": {
            "text/plain": [
              "0"
            ]
          },
          "metadata": {},
          "execution_count": 5
        }
      ]
    },
    {
      "cell_type": "code",
      "source": [
        "df_hits = df_hits.drop_duplicates()"
      ],
      "metadata": {
        "id": "DrDcSsVBcmTC"
      },
      "execution_count": 6,
      "outputs": []
    },
    {
      "cell_type": "code",
      "source": [
        "sum(df_hits.duplicated()), df_hits.shape"
      ],
      "metadata": {
        "colab": {
          "base_uri": "https://localhost:8080/"
        },
        "id": "KNg1jnVFcteU",
        "outputId": "31b3163d-64d8-41c4-938a-6520da7946fc"
      },
      "execution_count": 8,
      "outputs": [
        {
          "output_type": "execute_result",
          "data": {
            "text/plain": [
              "(0, (15726470, 11))"
            ]
          },
          "metadata": {},
          "execution_count": 8
        }
      ]
    },
    {
      "cell_type": "markdown",
      "source": [
        "## Обрабатываем пропуски"
      ],
      "metadata": {
        "id": "dj6qwLDWg0f1"
      }
    },
    {
      "cell_type": "code",
      "source": [
        "def missing_values(data):\n",
        "  miss = (data.isna().sum() / len(data) * 100).sort_values()\n",
        "  print(f'Процент пропущенных значений: \\n{miss}')"
      ],
      "metadata": {
        "id": "Qo4x2Ww2g3gU"
      },
      "execution_count": 9,
      "outputs": []
    },
    {
      "cell_type": "markdown",
      "source": [
        "### Обрабатываем пропуски в sessions"
      ],
      "metadata": {
        "id": "S4--GPQUhgh2"
      }
    },
    {
      "cell_type": "code",
      "source": [
        "missing_values(df_sess)"
      ],
      "metadata": {
        "colab": {
          "base_uri": "https://localhost:8080/"
        },
        "id": "FmoQb3kJhWNw",
        "outputId": "24d68352-cc39-417c-a8cc-6f8e49ba3d9d"
      },
      "execution_count": 10,
      "outputs": [
        {
          "output_type": "stream",
          "name": "stdout",
          "text": [
            "Процент пропущенных значений: \n",
            "session_id                   0.000000\n",
            "device_browser               0.000000\n",
            "device_screen_resolution     0.000000\n",
            "device_category              0.000000\n",
            "geo_country                  0.000000\n",
            "utm_medium                   0.000000\n",
            "geo_city                     0.000000\n",
            "visit_number                 0.000000\n",
            "visit_time                   0.000000\n",
            "visit_date                   0.000000\n",
            "client_id                    0.000000\n",
            "utm_source                   0.005215\n",
            "utm_campaign                11.806346\n",
            "utm_adcontent               18.043410\n",
            "device_brand                19.740307\n",
            "device_os                   57.533002\n",
            "utm_keyword                 58.174009\n",
            "device_model                99.121633\n",
            "dtype: float64\n"
          ]
        }
      ]
    },
    {
      "cell_type": "code",
      "source": [
        "df_sess = df_sess.drop(columns=['device_model', 'utm_keyword', 'device_os'])\n",
        "df_sess.device_brand = df_sess.device_brand.fillna('other')\n",
        "df_sess.utm_source = df_sess.utm_source.fillna(df_sess.utm_source.mode()[0])\n",
        "df_sess.utm_campaign = df_sess.utm_campaign.fillna(df_sess.utm_campaign.mode()[0])\n",
        "df_sess.utm_adcontent = df_sess.utm_adcontent.fillna(df_sess.utm_adcontent.mode()[0])"
      ],
      "metadata": {
        "id": "NyWzjInxiaJN"
      },
      "execution_count": 11,
      "outputs": []
    },
    {
      "cell_type": "code",
      "source": [
        "missing_values(df_sess)"
      ],
      "metadata": {
        "colab": {
          "base_uri": "https://localhost:8080/"
        },
        "id": "JLMedl3riuiq",
        "outputId": "c2e38e7e-06a3-4669-bacc-4792a86f4b03"
      },
      "execution_count": 12,
      "outputs": [
        {
          "output_type": "stream",
          "name": "stdout",
          "text": [
            "Процент пропущенных значений: \n",
            "session_id                  0.0\n",
            "client_id                   0.0\n",
            "visit_date                  0.0\n",
            "visit_time                  0.0\n",
            "visit_number                0.0\n",
            "utm_source                  0.0\n",
            "utm_medium                  0.0\n",
            "utm_campaign                0.0\n",
            "utm_adcontent               0.0\n",
            "device_category             0.0\n",
            "device_brand                0.0\n",
            "device_screen_resolution    0.0\n",
            "device_browser              0.0\n",
            "geo_country                 0.0\n",
            "geo_city                    0.0\n",
            "dtype: float64\n"
          ]
        }
      ]
    },
    {
      "cell_type": "markdown",
      "source": [
        "### Обрабатываем пропуски в hits"
      ],
      "metadata": {
        "id": "SolPJsoNP1nF"
      }
    },
    {
      "cell_type": "code",
      "source": [
        "missing_values(df_hits)"
      ],
      "metadata": {
        "colab": {
          "base_uri": "https://localhost:8080/"
        },
        "id": "K9AiIayaP59o",
        "outputId": "eb8c300b-5181-4024-dc96-7174433ec987"
      },
      "execution_count": 13,
      "outputs": [
        {
          "output_type": "stream",
          "name": "stdout",
          "text": [
            "Процент пропущенных значений: \n",
            "session_id          0.000000\n",
            "hit_date            0.000000\n",
            "hit_number          0.000000\n",
            "hit_type            0.000000\n",
            "hit_page_path       0.000000\n",
            "event_category      0.000000\n",
            "event_action        0.000000\n",
            "event_label        23.909905\n",
            "hit_referer        39.899634\n",
            "hit_time           58.247795\n",
            "event_value       100.000000\n",
            "dtype: float64\n"
          ]
        }
      ]
    },
    {
      "cell_type": "code",
      "source": [
        "df_hits.event_value.value_counts(dropna=False)"
      ],
      "metadata": {
        "colab": {
          "base_uri": "https://localhost:8080/"
        },
        "id": "hODHL-FcP-TH",
        "outputId": "adb73e93-a6e9-4003-dd2c-6449fa0fb160"
      },
      "execution_count": 14,
      "outputs": [
        {
          "output_type": "execute_result",
          "data": {
            "text/plain": [
              "event_value\n",
              "NaN    15726470\n",
              "Name: count, dtype: int64"
            ]
          },
          "metadata": {},
          "execution_count": 14
        }
      ]
    },
    {
      "cell_type": "code",
      "source": [
        "df_hits = df_hits.drop(['event_label', 'hit_referer', 'hit_time', 'event_value'], axis=1)"
      ],
      "metadata": {
        "id": "9LCau5hOQIsr"
      },
      "execution_count": 15,
      "outputs": []
    },
    {
      "cell_type": "code",
      "source": [
        "missing_values(df_hits)"
      ],
      "metadata": {
        "colab": {
          "base_uri": "https://localhost:8080/"
        },
        "id": "NgWClct2QicE",
        "outputId": "c1ad98b2-0bc4-4857-cb20-0d5836004a8d"
      },
      "execution_count": 16,
      "outputs": [
        {
          "output_type": "stream",
          "name": "stdout",
          "text": [
            "Процент пропущенных значений: \n",
            "session_id        0.0\n",
            "hit_date          0.0\n",
            "hit_number        0.0\n",
            "hit_type          0.0\n",
            "hit_page_path     0.0\n",
            "event_category    0.0\n",
            "event_action      0.0\n",
            "dtype: float64\n"
          ]
        }
      ]
    },
    {
      "cell_type": "markdown",
      "source": [
        "## Преобразование данных"
      ],
      "metadata": {
        "id": "FuVZwyoaQzKl"
      }
    },
    {
      "cell_type": "code",
      "source": [
        "df_sess['visit_date'] = pd.to_datetime(df_sess.visit_date)"
      ],
      "metadata": {
        "id": "1_9f6jT-Q20h"
      },
      "execution_count": 25,
      "outputs": []
    },
    {
      "cell_type": "code",
      "source": [
        "df_sess.visit_date"
      ],
      "metadata": {
        "colab": {
          "base_uri": "https://localhost:8080/"
        },
        "id": "WMtousnmQ5nO",
        "outputId": "43593762-d47e-4c3c-9465-42bb892c85d2"
      },
      "execution_count": 18,
      "outputs": [
        {
          "output_type": "execute_result",
          "data": {
            "text/plain": [
              "0         2021-11-24\n",
              "1         2021-11-14\n",
              "2         2021-12-28\n",
              "3         2021-05-29\n",
              "4         2021-05-29\n",
              "             ...    \n",
              "1860037   2021-12-22\n",
              "1860038   2021-05-26\n",
              "1860039   2021-11-15\n",
              "1860040   2021-11-29\n",
              "1860041   2021-12-31\n",
              "Name: visit_date, Length: 1860042, dtype: datetime64[ns]"
            ]
          },
          "metadata": {},
          "execution_count": 18
        }
      ]
    },
    {
      "cell_type": "code",
      "source": [
        "df_sess['visit_time'] = pd.to_datetime(df_sess['visit_time'], format='%H:%M:%S').dt.time"
      ],
      "metadata": {
        "id": "zcbULIMSRkuI"
      },
      "execution_count": 20,
      "outputs": []
    },
    {
      "cell_type": "code",
      "source": [
        "df_sess.visit_time"
      ],
      "metadata": {
        "colab": {
          "base_uri": "https://localhost:8080/"
        },
        "id": "DRDm2vuyUiQq",
        "outputId": "40181dbb-ea8c-48ac-b503-1629f5279c61"
      },
      "execution_count": 21,
      "outputs": [
        {
          "output_type": "execute_result",
          "data": {
            "text/plain": [
              "0          14:36:32\n",
              "1          08:21:30\n",
              "2          02:42:06\n",
              "3          05:00:00\n",
              "4          05:00:00\n",
              "             ...   \n",
              "1860037    10:48:25\n",
              "1860038    08:00:00\n",
              "1860039    15:31:55\n",
              "1860040    15:36:44\n",
              "1860041    19:39:02\n",
              "Name: visit_time, Length: 1860042, dtype: object"
            ]
          },
          "metadata": {},
          "execution_count": 21
        }
      ]
    },
    {
      "cell_type": "code",
      "source": [
        "df_hits.info()"
      ],
      "metadata": {
        "colab": {
          "base_uri": "https://localhost:8080/"
        },
        "id": "Pq2gjW8QUmKo",
        "outputId": "a4da89b8-6da8-471f-b471-a2326deeefa9"
      },
      "execution_count": 22,
      "outputs": [
        {
          "output_type": "stream",
          "name": "stdout",
          "text": [
            "<class 'pandas.core.frame.DataFrame'>\n",
            "RangeIndex: 15726470 entries, 0 to 15726469\n",
            "Data columns (total 7 columns):\n",
            " #   Column          Dtype \n",
            "---  ------          ----- \n",
            " 0   session_id      object\n",
            " 1   hit_date        object\n",
            " 2   hit_number      int64 \n",
            " 3   hit_type        object\n",
            " 4   hit_page_path   object\n",
            " 5   event_category  object\n",
            " 6   event_action    object\n",
            "dtypes: int64(1), object(6)\n",
            "memory usage: 839.9+ MB\n"
          ]
        }
      ]
    },
    {
      "cell_type": "code",
      "source": [
        "df_hits.hit_date"
      ],
      "metadata": {
        "colab": {
          "base_uri": "https://localhost:8080/"
        },
        "id": "ar6J9NAoffQH",
        "outputId": "350cb3ff-9db9-4a6e-f395-ff579d75241b"
      },
      "execution_count": 23,
      "outputs": [
        {
          "output_type": "execute_result",
          "data": {
            "text/plain": [
              "0           2021-12-23\n",
              "1           2021-12-23\n",
              "2           2021-12-23\n",
              "3           2021-12-23\n",
              "4           2021-12-23\n",
              "               ...    \n",
              "15726465    2021-12-23\n",
              "15726466    2021-12-23\n",
              "15726467    2021-12-23\n",
              "15726468    2021-12-23\n",
              "15726469    2021-12-23\n",
              "Name: hit_date, Length: 15726470, dtype: object"
            ]
          },
          "metadata": {},
          "execution_count": 23
        }
      ]
    },
    {
      "cell_type": "code",
      "source": [
        "df_hits['hit_date'] = pd.to_datetime(df_hits.hit_date)"
      ],
      "metadata": {
        "id": "oHmGZ_OefjBk"
      },
      "execution_count": 26,
      "outputs": []
    },
    {
      "cell_type": "code",
      "source": [
        "df_hits.hit_date"
      ],
      "metadata": {
        "colab": {
          "base_uri": "https://localhost:8080/"
        },
        "id": "lfAL4GH5fsJp",
        "outputId": "6a80c8b7-ef0b-4d57-a289-6913ac8edf11"
      },
      "execution_count": 27,
      "outputs": [
        {
          "output_type": "execute_result",
          "data": {
            "text/plain": [
              "0          2021-12-23\n",
              "1          2021-12-23\n",
              "2          2021-12-23\n",
              "3          2021-12-23\n",
              "4          2021-12-23\n",
              "              ...    \n",
              "15726465   2021-12-23\n",
              "15726466   2021-12-23\n",
              "15726467   2021-12-23\n",
              "15726468   2021-12-23\n",
              "15726469   2021-12-23\n",
              "Name: hit_date, Length: 15726470, dtype: datetime64[ns]"
            ]
          },
          "metadata": {},
          "execution_count": 27
        }
      ]
    },
    {
      "cell_type": "code",
      "source": [],
      "metadata": {
        "id": "RCTFnoEWfuZc"
      },
      "execution_count": null,
      "outputs": []
    }
  ]
}